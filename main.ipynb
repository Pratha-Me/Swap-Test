{
  "nbformat": 4,
  "nbformat_minor": 0,
  "metadata": {
    "colab": {
      "name": "main.ipynb",
      "provenance": [],
      "collapsed_sections": []
    },
    "kernelspec": {
      "name": "python3",
      "display_name": "Python 3"
    }
  },
  "cells": [
    {
      "cell_type": "markdown",
      "metadata": {
        "id": "OGujKNzrPMEs"
      },
      "source": [
        "\n",
        "\n",
        "```\n",
        "`# This is formatted as code`\n",
        "```\n",
        "\n",
        "# The Problem\n",
        "\n",
        "The [Swap test](https://en.wikipedia.org/wiki/Swap_test) is a simple quantum circuit which, given two states, allows to compute how much do they differ from each other.\n",
        "\n",
        "1. Provide a variational (also called parametric) circuit which is able to generate the most general 1 qubit state. By most general 1 qubit state we mean that there exists a set of the parameters in the circuit such that any point in the Bloch sphere can be reached. Check that the circuit works correctly by showing that by varying randomly the parameters of your circuit you can reproduce correctly the Bloch sphere.\n",
        "\n",
        "2. Use the circuit built in step 1) and, using the SWAP test, find the best choice of your parameters to reproduce a randomly generated quantum state made with 1 qubit.\n",
        "\n",
        "3. Suppose you are given with a random state, made by N qubits, for which you only know that it is a product state and each of the qubits are in the state | 0 > or | 1>. By product state we mean that it can be written as the product of single qubit states, without the need to do any summation. For example, the state\n",
        "|a> = |01>\n",
        "Is a product state, while the state\n",
        "|b> = |00> + |11>\n",
        "Is not.\n",
        "\n",
        "Perform a qubit by qubit SWAP test to reconstruct the state. This part of the problem can be solved via a simple grid search.\n"
      ]
    },
    {
      "cell_type": "markdown",
      "metadata": {
        "id": "_GNW_NoyQqCs"
      },
      "source": [
        "# Section 1: The preambles\n",
        "Before running over the solution which is in subsequent section. Let's go through preambles.\n",
        "\n",
        "## Subsection 1.1: Qubit\n",
        "A qubit is a two-state system that can be realized in a state of superposition composed by two orthonormal basis states of $|0\\rangle$ and $|1\\rangle$. Expressed as following.\n",
        "\n",
        "\\begin{align*}\n",
        "|\\Psi\\rangle = \\alpha|0\\rangle + \\beta|1\\rangle \\\\\n",
        "\\end{align*}\n",
        "Here, $\\alpha$ and $\\beta$ are the probability amplitudes along with the two basis states respectively. Whose square of norms are the probabilities for the qubit to collapse over the same. Following the normalization of the qubit $|\\Psi\\rangle$.\n",
        "\n",
        "\\begin{align*}\n",
        "|\\alpha|^2 + |\\beta|^2 = 1\n",
        "\\end{align*}\n",
        "\n",
        "## Subsection 1.2: Bloch sphere\n",
        "Bloch Sphere is a unit sphere. The radius of the sphere equals to the total probability of the residing qubit. All the points on its surface are traced by the vector representation of the qubit. The convention is to associate the positive z-axis to $|0\\rangle$ and the other one to $|1\\rangle$. This puts an angle of $\\pi$ between these two orthonormal states. Immediately, it seems to be a counterintuitive approach. However, together with all of these cases, the idea of probability amplitudes ($\\alpha$ and $\\beta$) are expressible in polar coordinates makes us ready to choose the Hopf coordinates for the representation of the Bloch Sphere as illustrated below.\n",
        "\n",
        "![The-Bloch-sphere.png](data:image/png;base64,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)\n",
        "\n",
        "Source: Cong, Shuang. (2008). The analysis of two-level Quantum system states and control in the Bloch ball. 618-622. 10.1109/CHICC.2008.4604907.\n",
        "\n",
        "In the desired co-ordinate, $\\theta$ is called polar angle and $\\phi$ is called azimuthal angle with range $0 ≤ \\theta ≤ \\pi$ and $0 ≤ \\phi < 2\\pi$ The probability amplitude for the two basis state of the qubit becomes: \n",
        "\n",
        "\\begin{align*}\n",
        "\\alpha & = cos(\\frac{\\theta}{2})e^{i\\phi_{1}} \\\\\n",
        "\\beta & = sin(\\frac{\\theta}{2})e^{i\\phi_{2}} \\\\\n",
        "\\end{align*}\n",
        "\n",
        "\\begin{align*}\n",
        "\\alpha^{2} + \\beta^{2} = 1 \n",
        "\\end{align*}\n",
        "\n",
        "Consequently, the qubit takes the form as shown below.\n",
        "\n",
        "\\begin{align*}\n",
        "|\\Psi\\rangle & = cos(\\frac{\\theta}{2})e^{i\\phi_{1}}|0\\rangle + sin(\\frac{\\theta}{2})e^{i\\phi_{2}}|1\\rangle \\\\\n",
        "|\\Psi\\rangle & = e^{i\\phi_{1}} (cos(\\frac{\\theta}{2})|0\\rangle + sin(\\frac{\\theta}{2})e^{i(\\phi_{2}- \\phi_{1})}|1\\rangle)\n",
        "\\end{align*}\n",
        "\n",
        "We can arbitarily choose $e^{i\\phi_{1}}$ to be equal to 1 and take $e^{i(\\phi_{1} - \\phi_{1})} = e^{i\\phi}$. Eventually the qubit finalizes to following form.\n",
        "\n",
        "\\begin{align*}\n",
        "|\\Psi\\rangle & = cos(\\frac{\\theta}{2})|0\\rangle + sin(\\frac{\\theta}{2})e^{i\\phi}|1\\rangle \\\\\n",
        "\\end{align*}\n",
        "\n",
        "**Aliter:**\n",
        "\n",
        "The basis state $|0\\rangle$ might not be confined as parallel or anti-parallel to the x-axis. In such a case, the value of $e^{i\\phi_{1}}$ is not equal to 1. The azimuthal angle $\\phi_{1}$ can be replaced by $\\phi$. So that the other one can be expressed with a phase denoted by $\\lambda$ so, $\\phi_{2}$ = $\\phi + \\lambda$. Hence the qubit takes the form as shown below.  \n",
        "\n",
        "\\begin{align*}\n",
        "|\\Psi\\rangle & = cos(\\frac{\\theta}{2})e^{i\\phi}|0\\rangle + sin(\\frac{\\theta}{2})e^{i(\\phi + \\lambda)}|1\\rangle \\\\\n",
        "\\end{align*}\n",
        "\n",
        "## Subsection 1.3: Hadamard gate\n",
        "Hadamard gate (H-gate) performs a rotation operation on a single qubit thus it's termed as a single-qubit gate. The qubit, after rotation, moves away from the poles of the Bloch sphere and create a superposition of $|0\\rangle$ and $|1\\rangle$. The probability for the qubit to collapse into either of the states is equal. The matrix form of H-gate:\n",
        "\n",
        "\\begin{align*}\n",
        "H =\\frac{1}{\\sqrt{2}}\n",
        "\\begin{pmatrix}\n",
        "1 & 1 \\\\\n",
        "1 & -1\n",
        "\\end{pmatrix} \\\\\n",
        "\\end{align*}\n",
        "\n",
        "\\begin{align*}\n",
        "H|0\\rangle & = \\frac{1}{\\sqrt{2}} (|0\\rangle + |1\\rangle) & =: |x_{+}\\rangle \\\\\n",
        "H|1\\rangle & = \\frac{1}{\\sqrt{2}} (|0\\rangle - |1\\rangle) & =: |x_{-}\\rangle\n",
        "\\end{align*}\n",
        "\n",
        "When H-gate is applied to $|0\\rangle$ the resulting state is along the $|x_{+}\\rangle$ axis and when applied to $|1\\rangle$ it's along the $|x_{-}\\rangle$ axis. If the H-gate is applied for the second time we observe an interesting result. It reverts the superposition into the state of origin. In simple expressions we write:\n",
        "\n",
        "\\begin{align*}\n",
        "H|x_{+}\\rangle & = |0\\rangle \\\\\n",
        "H|x_{-}\\rangle & = |1\\rangle\n",
        "\\end{align*}\n",
        "\n",
        "## Subsection 1.4: SWAP gate\n",
        "Unlike the H-gate, SWAP Gate is a multi-qubit gate. It acts upon the composite state of qubits. The composite state is achieved by the tensor product between two or more states. In the case of a composite state composed of two qubits, the gate swaps the position of two qubits. However, in the case of a composite state composed of three qubits the gate is now termed a controlled SWAP gate. We take the first qubit as a reference and swap the other two qubits only if the reference qubit is in $|1\\rangle$ state.\n",
        "\n",
        "For brevity, let's take two qubits spanning over the same vector space with basis vectors $|0\\rangle$ & $|1\\rangle$\n",
        "\n",
        "\\begin{align*}\n",
        "|\\Psi\\rangle_{1} & = a_{1}|0\\rangle + b_{1}|1\\rangle \\\\\n",
        "|\\Psi\\rangle_{2} & = a_{2}|0\\rangle + b_{2}|1\\rangle\n",
        "\\end{align*}\n",
        "\n",
        "\\begin{align*}\n",
        "|\\Psi\\rangle_{1} \\otimes |\\Psi\\rangle_{2} = a_{1}a_{2}|0\\rangle|0\\rangle + a_{1}b_{2}|0\\rangle|1\\rangle + b_{1}a_{2}|1\\rangle|0\\rangle + b_{1}b_{2}|1\\rangle|1\\rangle \\\\\n",
        "\\end{align*}\n",
        "\n",
        "This expression is simplified as:\n",
        "\n",
        "\\begin{align*}\n",
        "|\\Psi\\rangle_{1} \\otimes |\\Psi\\rangle_{2} = a_{00}|00\\rangle + a_{01}|01\\rangle + a_{10}|10\\rangle + a_{11}|11\\rangle \\\\\n",
        "\\end{align*}\n",
        "\n",
        "The SWAP gate exchanges the two qubits. It transforms the basis vectors as\n",
        "\\begin{align*}\n",
        "|00\\rangle \\rightarrow |00\\rangle, \\quad |01\\rangle \\rightarrow |10\\rangle,\\quad |10\\rangle \\rightarrow |01\\rangle,\\quad |11\\rangle \\rightarrow |11\\rangle\n",
        "\\end{align*}"
      ]
    },
    {
      "cell_type": "markdown",
      "metadata": {
        "id": "zRMIf9NjaZD1"
      },
      "source": [
        "#Section 2: The tasks\n",
        "Python would be the best choice to solve the problem due to the utilitarian packages it has for quantum computation. The python library \"qiskit\" suffices for the task at hand. \n",
        "\n",
        "In the chosen library, an initialized qubit is represented as:\n",
        "\n",
        "\\begin{align*}\n",
        "|\\Psi\\rangle & = cos(\\frac{\\theta}{2})|0\\rangle + sin(\\frac{\\theta}{2})e^{i\\phi}|1\\rangle \\\\\n",
        "\\end{align*}\n",
        "\n",
        "However, we have ample freedom to rotate this vector (qubit) around the Bloch sphere by applying the general unitary operator U expressed as:\n",
        "\n",
        "\\begin{align*}\n",
        "U = \\begin{pmatrix}\n",
        "cos(\\frac{\\theta}{2}) & -e^{-i\\lambda}sin(\\frac{\\theta}{2}) \\\\\n",
        "e^{-i\\phi}sin(\\frac{\\theta}{2}) & e^{-i(\\phi +\\lambda)}cos(\\frac{\\theta}{2})\n",
        "\\end{pmatrix} \\\\\n",
        "\\end{align*}\n",
        "\n",
        "This unitary operator performs a transformation over the vector $|\\Psi\\rangle$ resulting in its rotation within the Bloch sphere. The final form denoted by $|\\Psi^{'}\\rangle$ is expressed below. This state traces out the Bloch sphere\n",
        "\n",
        "\\begin{align*}\n",
        "U|\\Psi\\rangle & = |\\Psi^{'}\\rangle \\\\\n",
        "|\\Psi^{'}\\rangle & = e^{i\\phi} (cos(\\frac{\\theta}{2})|0\\rangle + sin(\\frac{\\theta}{2})e^{i(\\phi + \\lambda)}|1\\rangle)\n",
        "\\end{align*}\n",
        "\n",
        "## Subsection 2.1: Variational circuit\n",
        "In the following code snippet we have built a circuit and defined the parameters. The cicuit comprises of \n",
        "*   a single qubit\n",
        "*   two spherical parameters $\\theta$ and $\\phi$, and a phase $\\lambda$ between the azimuthal angle of two basis state of the qubit\n",
        "\n"
      ]
    },
    {
      "cell_type": "code",
      "metadata": {
        "id": "q0F6YR6SfE1K"
      },
      "source": [
        "# %pip install qiskit\n",
        "from qiskit import QuantumCircuit, QuantumRegister, execute, Aer\n",
        "from qiskit.circuit import Parameter\n",
        "import matplotlib.pyplot as plt \n",
        "import numpy as np\n",
        "\n",
        "# Spherical Parameters\n",
        "theta_param = Parameter(\"theta\")\n",
        "phi_param = Parameter(\"phi\")\n",
        "lambda_param = Parameter(\"lambda\")\n",
        "\n",
        "# Register a qubit\n",
        "qubit = QuantumRegister(1)\n",
        "\n",
        "# Initializate a circuit \n",
        "qc = QuantumCircuit()\n",
        "qc.add_register(qubit)"
      ],
      "execution_count": null,
      "outputs": []
    },
    {
      "cell_type": "markdown",
      "metadata": {
        "id": "o-bTYk0sAu5s"
      },
      "source": [
        "The general unitary operator U can be applied to the circuit which will result in its rotation. This resulting rotation traces Bloch sphere. During the application of the operator the aforementioned parameters can be passed as its arguments."
      ]
    },
    {
      "cell_type": "code",
      "metadata": {
        "colab": {
          "base_uri": "https://localhost:8080/"
        },
        "id": "oCyXcJJgAqEi",
        "outputId": "551fe1ec-ef5c-41be-afbd-095ddf4c25b4"
      },
      "source": [
        "# General rotation operator is implanted in to the circuit.\n",
        "qc.u3(theta_param, phi_param, lambda_param , qubit)"
      ],
      "execution_count": null,
      "outputs": [
        {
          "output_type": "execute_result",
          "data": {
            "text/plain": [
              "<qiskit.circuit.instructionset.InstructionSet at 0x7fc9671fab00>"
            ]
          },
          "metadata": {
            "tags": []
          },
          "execution_count": 40
        }
      ]
    },
    {
      "cell_type": "markdown",
      "metadata": {
        "id": "xZbYysatuQD9"
      },
      "source": [
        "###Testing the parametric circuit\n",
        "We will conceive three ways to verify our parametric circuit reproduces the Bloch sphere via the rotation operation. The first two will exploit the fact that the norm of the state representing the qubit should equal 1. For the last method, special cases of the state are produced and juxtapose with the particular geometric cases of the Bloch sphere.\n",
        "\n",
        "### A. Brute force approach\n",
        "In the first method, we can motivate ourselves by running the values for $\\theta$ and $\\phi$ from 0 to $\\pi$ and 0 to $2\\pi$ respectively and place a nested loop to retrieve the norm of the rotated qubit. In this brute force approach, the norm must equal 1 for all the instances of the parameters. Please note the value for the parameter $\\lambda$ is arbitrarily set at 2.0 to eliminate one additional nested loop. \n",
        "\n",
        "To visualize the result, the norms collected during the loop is printed on the console. And the list of the norm is plotted against the list of natural numbers. The size of the list of natural numbers must equal total loop counts."
      ]
    },
    {
      "cell_type": "code",
      "metadata": {
        "colab": {
          "base_uri": "https://localhost:8080/",
          "height": 302
        },
        "id": "QLYXaE59qHxw",
        "outputId": "5311cb22-f5b7-4b4f-dae4-a14bf33e4679"
      },
      "source": [
        "# Simulator\n",
        "backend = Aer.get_backend('statevector_simulator')\n",
        "\n",
        "partition = 10\n",
        "theta_range = np.linspace(0, np.pi, partition)\n",
        "phi_range = np.linspace(0, 2*np.pi, partition)\n",
        "\n",
        "norms = []\n",
        "for theta in theta_range:\n",
        "    for phi in phi_range:\n",
        "        state = execute(qc.bind_parameters({theta_param: theta, phi_param: phi, lambda_param: 2.0}), backend).result()\n",
        "        ket = state.get_statevector()\n",
        "        norms.append(np.linalg.norm(ket))\n",
        "\n",
        "# Visualization of  norms\n",
        "print(norms)\n",
        "\n",
        "plt.plot(range(0, partition**2), norms) \n",
        "plt.show()\n",
        "#------------------------"
      ],
      "execution_count": null,
      "outputs": [
        {
          "output_type": "stream",
          "text": [
            "[1.0, 1.0, 1.0, 1.0, 1.0, 1.0, 1.0, 1.0, 1.0, 1.0, 0.9999999999999999, 0.9999999999999999, 0.9999999999999999, 0.9999999999999999, 0.9999999999999999, 0.9999999999999999, 1.0, 0.9999999999999999, 0.9999999999999999, 0.9999999999999999, 1.0, 1.0, 1.0, 1.0, 1.0, 1.0, 1.0, 1.0, 1.0, 1.0, 1.0, 1.0, 1.0, 1.0, 1.0, 1.0, 1.0, 1.0, 1.0, 1.0, 0.9999999999999999, 0.9999999999999999, 0.9999999999999999, 0.9999999999999999, 1.0, 0.9999999999999999, 0.9999999999999999, 0.9999999999999999, 0.9999999999999999, 0.9999999999999999, 1.0, 1.0, 0.9999999999999999, 0.9999999999999999, 1.0, 1.0, 1.0, 1.0, 0.9999999999999999, 1.0, 1.0, 1.0, 1.0, 1.0, 1.0, 1.0, 1.0, 1.0, 1.0, 1.0, 0.9999999999999999, 0.9999999999999999, 0.9999999999999999, 0.9999999999999999, 0.9999999999999999, 0.9999999999999999, 1.0, 1.0, 0.9999999999999999, 0.9999999999999999, 1.0, 0.9999999999999999, 0.9999999999999999, 0.9999999999999999, 0.9999999999999999, 1.0, 1.0, 0.9999999999999999, 1.0, 1.0, 1.0, 0.9999999999999999, 0.9999999999999999, 0.9999999999999999, 0.9999999999999999, 1.0, 1.0, 1.0, 1.0, 1.0]\n"
          ],
          "name": "stdout"
        },
        {
          "output_type": "display_data",
          "data": {
            "image/png": "[encoded data removed]",
            "text/plain": [
              "<Figure size 432x288 with 1 Axes>"
            ]
          },
          "metadata": {
            "tags": [],
            "needs_background": "light"
          }
        }
      ]
    },
    {
      "cell_type": "markdown",
      "metadata": {
        "id": "Tw5grrMLCVFo"
      },
      "source": [
        "###B. Randomly valued parameters\n",
        "We will create random floating values for the three parameters and check whether the norm of the state equals 1 or not. We will make ten random cases of the parameters. For such a few cases a plot might not be necessary. Printing the list of the collected norm on the console suffices"
      ]
    },
    {
      "cell_type": "code",
      "metadata": {
        "colab": {
          "base_uri": "https://localhost:8080/"
        },
        "id": "z1Mo0NxOsNqT",
        "outputId": "99d3a93d-7298-4baa-8679-ec21cfe1617d"
      },
      "source": [
        "norms = []\n",
        "for i in range(0, 10):\n",
        "    theta_rand = np.pi*np.random.rand()\n",
        "    phi_rand = 2*np.pi*np.random.rand()\n",
        "    lambda_rand = 2*np.pi*np.random.rand()\n",
        "\n",
        "    state = execute(qc.bind_parameters({theta_param: theta_rand, phi_param: phi_rand, lambda_param: lambda_rand}), backend).result()\n",
        "    ket = state.get_statevector()\n",
        "    norms.append(np.linalg.norm(ket))\n",
        "\n",
        "print(norms)"
      ],
      "execution_count": null,
      "outputs": [
        {
          "output_type": "stream",
          "text": [
            "[0.9999999999999999, 1.0, 0.9999999999999999, 1.0, 0.9999999999999999, 1.0, 1.0, 1.0, 1.0, 1.0]\n"
          ],
          "name": "stdout"
        }
      ]
    },
    {
      "cell_type": "markdown",
      "metadata": {
        "id": "hzhLqHbtu9WD"
      },
      "source": [
        "###C. Special geometric cases\n",
        "In a superposition state, the qubit is spread out over the Bloch sphere. However, there are few special geometric cases. \n",
        "\n",
        "\n",
        "\n",
        "* if we force the state to align along the z-axis then the probability for the qubit to collapse over $|0\\rangle$ and $|1\\rangle$ equals 1\n",
        "* Similarly, when the state is resides on the great circle$^\\dagger$ then the probability amplitudes of the both basis states becomes $\\frac{1}{2}$.\n",
        "\n",
        "By manipulating the parameters in our parametric circuit it's plausible to obtain the state at special geometric cases. The obtained state can be used to display the vector and calculate the desired probability which should replicate the geometric inferences.\n",
        "\n",
        "$^\\dagger$plane formed due to intersection of a plane and a sphere at its equator"
      ]
    },
    {
      "cell_type": "code",
      "metadata": {
        "id": "vKg7WJ7lY2LA"
      },
      "source": [
        ""
      ],
      "execution_count": null,
      "outputs": []
    }
  ]
}